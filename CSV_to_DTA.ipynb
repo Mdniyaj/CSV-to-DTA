{
 "cells": [
  {
   "cell_type": "code",
   "execution_count": null,
   "metadata": {},
   "outputs": [],
   "source": [
    "import os\n",
    "import pandas as pd\n",
    "import calendar\n",
    "\n",
    "# Set the directory paths\n",
    "csv_dir = \"C:/Users/Sk Niyaj Mohemmad/OneDrive - Shiv Nadar Institution of Eminence/CPHS/Consumption Pyramids_CSV\"\n",
    "dta_dir = \"C:/Users/Sk Niyaj Mohemmad/OneDrive - Shiv Nadar Institution of Eminence/CPHS/Consumption Pyramids_DTA\"\n",
    "\n",
    "# Create output directory if it doesn't exist\n",
    "os.makedirs(dta_dir, exist_ok=True)\n",
    "\n",
    "# Loop through each file in the CSV directory\n",
    "for year in range(2014, 2016):\n",
    "    for month in range(1, 13):\n",
    "        # Find the last day of the month\n",
    "        last_day = calendar.monthrange(year, month)[1]\n",
    "\n",
    "        # Format the filename as YYYYMMDD\n",
    "        month_str = f\"{month:02}\"  # Format month to always have two digits\n",
    "        filename = f\"{year}{month_str}{last_day:02}\"\n",
    "\n",
    "        csv_file_path = os.path.join(csv_dir, f\"{filename}.csv\")\n",
    "        dta_file_path = os.path.join(dta_dir, f\"{filename}.dta\")\n",
    "\n",
    "        # Check if the CSV file exists before converting\n",
    "        if os.path.isfile(csv_file_path):\n",
    "            # Read the CSV file\n",
    "            df = pd.read_csv(csv_file_path)\n",
    "\n",
    "            # Save as a .dta file\n",
    "            df.to_stata(dta_file_path, write_index=False)\n",
    "            print(f\"Converted {csv_file_path} to {dta_file_path}\")\n",
    "        else:\n",
    "            print(f\"File not found: {csv_file_path}\")"
   ]
  },
  {
   "cell_type": "code",
   "execution_count": null,
   "metadata": {},
   "outputs": [
    {
     "name": "stdout",
     "output_type": "stream",
     "text": [
      "Approximate longitude resolution: 77.52364349365234 km\n",
      "Approximate latitude resolution: 83.25 km\n"
     ]
    }
   ],
   "source": [
    "\n"
   ]
  }
 ],
 "metadata": {
  "language_info": {
   "name": "python"
  }
 },
 "nbformat": 4,
 "nbformat_minor": 2
}
